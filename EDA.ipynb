{
 "cells": [
  {
   "cell_type": "code",
   "execution_count": 2,
   "metadata": {},
   "outputs": [],
   "source": [
    "import tensorflow as tf\n",
    "import pandas as pd\n",
    "from nltk import word_tokenize, sent_tokenize\n",
    "\n",
    "from matplotlib import pyplot as plt\n",
    "\n",
    "from gcdc_data import load, load_pandas, Source, TrainOrTest"
   ]
  },
  {
   "cell_type": "code",
   "execution_count": 3,
   "metadata": {},
   "outputs": [],
   "source": [
    "train_data = load_pandas(TrainOrTest.TRAIN)\n",
    "test_data = load_pandas(TrainOrTest.TEST)"
   ]
  },
  {
   "cell_type": "code",
   "execution_count": 4,
   "metadata": {},
   "outputs": [
    {
     "data": {
      "text/html": [
       "<div>\n",
       "<style scoped>\n",
       "    .dataframe tbody tr th:only-of-type {\n",
       "        vertical-align: middle;\n",
       "    }\n",
       "\n",
       "    .dataframe tbody tr th {\n",
       "        vertical-align: top;\n",
       "    }\n",
       "\n",
       "    .dataframe thead th {\n",
       "        text-align: right;\n",
       "    }\n",
       "</style>\n",
       "<table border=\"1\" class=\"dataframe\">\n",
       "  <thead>\n",
       "    <tr style=\"text-align: right;\">\n",
       "      <th></th>\n",
       "      <th>text</th>\n",
       "      <th>label</th>\n",
       "    </tr>\n",
       "  </thead>\n",
       "  <tbody>\n",
       "    <tr>\n",
       "      <th>count</th>\n",
       "      <td>4000</td>\n",
       "      <td>4000</td>\n",
       "    </tr>\n",
       "    <tr>\n",
       "      <th>unique</th>\n",
       "      <td>3943</td>\n",
       "      <td>3</td>\n",
       "    </tr>\n",
       "    <tr>\n",
       "      <th>top</th>\n",
       "      <td>As you know, Enron has signed a merger agreeme...</td>\n",
       "      <td>3</td>\n",
       "    </tr>\n",
       "    <tr>\n",
       "      <th>freq</th>\n",
       "      <td>5</td>\n",
       "      <td>1899</td>\n",
       "    </tr>\n",
       "  </tbody>\n",
       "</table>\n",
       "</div>"
      ],
      "text/plain": [
       "                                                     text label\n",
       "count                                                4000  4000\n",
       "unique                                               3943     3\n",
       "top     As you know, Enron has signed a merger agreeme...     3\n",
       "freq                                                    5  1899"
      ]
     },
     "execution_count": 4,
     "metadata": {},
     "output_type": "execute_result"
    }
   ],
   "source": [
    "train_data.describe()"
   ]
  },
  {
   "cell_type": "code",
   "execution_count": 5,
   "metadata": {},
   "outputs": [
    {
     "data": {
      "text/html": [
       "<div>\n",
       "<style scoped>\n",
       "    .dataframe tbody tr th:only-of-type {\n",
       "        vertical-align: middle;\n",
       "    }\n",
       "\n",
       "    .dataframe tbody tr th {\n",
       "        vertical-align: top;\n",
       "    }\n",
       "\n",
       "    .dataframe thead th {\n",
       "        text-align: right;\n",
       "    }\n",
       "</style>\n",
       "<table border=\"1\" class=\"dataframe\">\n",
       "  <thead>\n",
       "    <tr style=\"text-align: right;\">\n",
       "      <th></th>\n",
       "      <th>text</th>\n",
       "      <th>label</th>\n",
       "    </tr>\n",
       "  </thead>\n",
       "  <tbody>\n",
       "    <tr>\n",
       "      <th>count</th>\n",
       "      <td>800</td>\n",
       "      <td>800</td>\n",
       "    </tr>\n",
       "    <tr>\n",
       "      <th>unique</th>\n",
       "      <td>799</td>\n",
       "      <td>3</td>\n",
       "    </tr>\n",
       "    <tr>\n",
       "      <th>top</th>\n",
       "      <td>Bill; Mike Cashell (MPC's Transmission Mgr.) j...</td>\n",
       "      <td>3</td>\n",
       "    </tr>\n",
       "    <tr>\n",
       "      <th>freq</th>\n",
       "      <td>2</td>\n",
       "      <td>384</td>\n",
       "    </tr>\n",
       "  </tbody>\n",
       "</table>\n",
       "</div>"
      ],
      "text/plain": [
       "                                                     text label\n",
       "count                                                 800   800\n",
       "unique                                                799     3\n",
       "top     Bill; Mike Cashell (MPC's Transmission Mgr.) j...     3\n",
       "freq                                                    2   384"
      ]
     },
     "execution_count": 5,
     "metadata": {},
     "output_type": "execute_result"
    }
   ],
   "source": [
    "test_data.describe()"
   ]
  },
  {
   "cell_type": "code",
   "execution_count": 58,
   "metadata": {},
   "outputs": [
    {
     "data": {
      "text/html": [
       "<div>\n",
       "<style scoped>\n",
       "    .dataframe tbody tr th:only-of-type {\n",
       "        vertical-align: middle;\n",
       "    }\n",
       "\n",
       "    .dataframe tbody tr th {\n",
       "        vertical-align: top;\n",
       "    }\n",
       "\n",
       "    .dataframe thead th {\n",
       "        text-align: right;\n",
       "    }\n",
       "</style>\n",
       "<table border=\"1\" class=\"dataframe\">\n",
       "  <thead>\n",
       "    <tr style=\"text-align: right;\">\n",
       "      <th></th>\n",
       "      <th>length</th>\n",
       "      <th>uniques_length</th>\n",
       "      <th>sents_length</th>\n",
       "    </tr>\n",
       "  </thead>\n",
       "  <tbody>\n",
       "    <tr>\n",
       "      <th>count</th>\n",
       "      <td>4000.000000</td>\n",
       "      <td>4000.000000</td>\n",
       "      <td>4000.000000</td>\n",
       "    </tr>\n",
       "    <tr>\n",
       "      <th>mean</th>\n",
       "      <td>861.066500</td>\n",
       "      <td>105.377500</td>\n",
       "      <td>9.065500</td>\n",
       "    </tr>\n",
       "    <tr>\n",
       "      <th>std</th>\n",
       "      <td>292.488961</td>\n",
       "      <td>26.477061</td>\n",
       "      <td>3.701031</td>\n",
       "    </tr>\n",
       "    <tr>\n",
       "      <th>min</th>\n",
       "      <td>460.000000</td>\n",
       "      <td>52.000000</td>\n",
       "      <td>1.000000</td>\n",
       "    </tr>\n",
       "    <tr>\n",
       "      <th>25%</th>\n",
       "      <td>627.000000</td>\n",
       "      <td>85.000000</td>\n",
       "      <td>7.000000</td>\n",
       "    </tr>\n",
       "    <tr>\n",
       "      <th>50%</th>\n",
       "      <td>771.000000</td>\n",
       "      <td>99.000000</td>\n",
       "      <td>8.000000</td>\n",
       "    </tr>\n",
       "    <tr>\n",
       "      <th>75%</th>\n",
       "      <td>1030.000000</td>\n",
       "      <td>122.000000</td>\n",
       "      <td>11.000000</td>\n",
       "    </tr>\n",
       "    <tr>\n",
       "      <th>max</th>\n",
       "      <td>1874.000000</td>\n",
       "      <td>199.000000</td>\n",
       "      <td>31.000000</td>\n",
       "    </tr>\n",
       "  </tbody>\n",
       "</table>\n",
       "</div>"
      ],
      "text/plain": [
       "            length  uniques_length  sents_length\n",
       "count  4000.000000     4000.000000   4000.000000\n",
       "mean    861.066500      105.377500      9.065500\n",
       "std     292.488961       26.477061      3.701031\n",
       "min     460.000000       52.000000      1.000000\n",
       "25%     627.000000       85.000000      7.000000\n",
       "50%     771.000000       99.000000      8.000000\n",
       "75%    1030.000000      122.000000     11.000000\n",
       "max    1874.000000      199.000000     31.000000"
      ]
     },
     "execution_count": 58,
     "metadata": {},
     "output_type": "execute_result"
    }
   ],
   "source": [
    "train_data['length'] = train_data['text'].map(len)\n",
    "train_data['tokens'] = train_data['text'].map(lambda t: word_tokenize(t.lower()))\n",
    "train_data['uniques'] = train_data['tokens'].map(set)\n",
    "train_data['uniques_length'] = train_data['uniques'].map(len)\n",
    "train_data['sents'] = train_data['text'].map(sent_tokenize)\n",
    "train_data['sents_length'] = train_data['sents'].map(len)\n",
    "\n",
    "train_data.describe()"
   ]
  },
  {
   "cell_type": "code",
   "execution_count": 59,
   "metadata": {},
   "outputs": [
    {
     "data": {
      "text/html": [
       "<div>\n",
       "<style scoped>\n",
       "    .dataframe tbody tr th:only-of-type {\n",
       "        vertical-align: middle;\n",
       "    }\n",
       "\n",
       "    .dataframe tbody tr th {\n",
       "        vertical-align: top;\n",
       "    }\n",
       "\n",
       "    .dataframe thead th {\n",
       "        text-align: right;\n",
       "    }\n",
       "</style>\n",
       "<table border=\"1\" class=\"dataframe\">\n",
       "  <thead>\n",
       "    <tr style=\"text-align: right;\">\n",
       "      <th></th>\n",
       "      <th>length</th>\n",
       "      <th>uniques_length</th>\n",
       "      <th>sents_length</th>\n",
       "    </tr>\n",
       "  </thead>\n",
       "  <tbody>\n",
       "    <tr>\n",
       "      <th>count</th>\n",
       "      <td>800.00000</td>\n",
       "      <td>800.000000</td>\n",
       "      <td>800.000000</td>\n",
       "    </tr>\n",
       "    <tr>\n",
       "      <th>mean</th>\n",
       "      <td>883.78125</td>\n",
       "      <td>107.215000</td>\n",
       "      <td>8.997500</td>\n",
       "    </tr>\n",
       "    <tr>\n",
       "      <th>std</th>\n",
       "      <td>309.47624</td>\n",
       "      <td>27.737122</td>\n",
       "      <td>3.563477</td>\n",
       "    </tr>\n",
       "    <tr>\n",
       "      <th>min</th>\n",
       "      <td>498.00000</td>\n",
       "      <td>62.000000</td>\n",
       "      <td>1.000000</td>\n",
       "    </tr>\n",
       "    <tr>\n",
       "      <th>25%</th>\n",
       "      <td>630.00000</td>\n",
       "      <td>85.000000</td>\n",
       "      <td>7.000000</td>\n",
       "    </tr>\n",
       "    <tr>\n",
       "      <th>50%</th>\n",
       "      <td>784.50000</td>\n",
       "      <td>99.500000</td>\n",
       "      <td>9.000000</td>\n",
       "    </tr>\n",
       "    <tr>\n",
       "      <th>75%</th>\n",
       "      <td>1059.00000</td>\n",
       "      <td>124.250000</td>\n",
       "      <td>11.000000</td>\n",
       "    </tr>\n",
       "    <tr>\n",
       "      <th>max</th>\n",
       "      <td>1877.00000</td>\n",
       "      <td>192.000000</td>\n",
       "      <td>32.000000</td>\n",
       "    </tr>\n",
       "  </tbody>\n",
       "</table>\n",
       "</div>"
      ],
      "text/plain": [
       "           length  uniques_length  sents_length\n",
       "count   800.00000      800.000000    800.000000\n",
       "mean    883.78125      107.215000      8.997500\n",
       "std     309.47624       27.737122      3.563477\n",
       "min     498.00000       62.000000      1.000000\n",
       "25%     630.00000       85.000000      7.000000\n",
       "50%     784.50000       99.500000      9.000000\n",
       "75%    1059.00000      124.250000     11.000000\n",
       "max    1877.00000      192.000000     32.000000"
      ]
     },
     "execution_count": 59,
     "metadata": {},
     "output_type": "execute_result"
    }
   ],
   "source": [
    "test_data['length'] = test_data['text'].map(len)\n",
    "test_data['tokens'] = test_data['text'].map(lambda t: word_tokenize(t.lower()))\n",
    "test_data['uniques'] = test_data['tokens'].map(set)\n",
    "test_data['uniques_length'] = test_data['uniques'].map(len)\n",
    "test_data['sents'] = test_data['text'].map(sent_tokenize)\n",
    "test_data['sents_length'] = test_data['sents'].map(len)\n",
    "\n",
    "test_data.describe()"
   ]
  },
  {
   "cell_type": "code",
   "execution_count": 28,
   "metadata": {},
   "outputs": [
    {
     "name": "stdout",
     "output_type": "stream",
     "text": [
      "30762\n",
      "13210\n"
     ]
    }
   ],
   "source": [
    "train_uniques = set([word for wordset in train_data['uniques'] for word in wordset])\n",
    "test_uniques = set([word for wordset in test_data['uniques'] for word in wordset])\n",
    "\n",
    "print(len(train_uniques))\n",
    "print(len(test_uniques))"
   ]
  },
  {
   "cell_type": "code",
   "execution_count": 29,
   "metadata": {},
   "outputs": [
    {
     "data": {
      "text/plain": [
       "3386"
      ]
     },
     "execution_count": 29,
     "metadata": {},
     "output_type": "execute_result"
    }
   ],
   "source": [
    "len(test_uniques.difference(train_uniques))"
   ]
  },
  {
   "cell_type": "code",
   "execution_count": 31,
   "metadata": {},
   "outputs": [],
   "source": [
    "from collections import defaultdict\n",
    "\n",
    "train_occurances = defaultdict(int)\n",
    "test_occurances = defaultdict(int)\n",
    "\n",
    "for tokens in train_data['tokens']:\n",
    "    for token in tokens:\n",
    "        train_occurances[token] += 1\n",
    "        \n",
    "for tokens in test_data['tokens']:\n",
    "    for token in tokens:\n",
    "        test_occurances[token] += 1"
   ]
  },
  {
   "cell_type": "code",
   "execution_count": 49,
   "metadata": {},
   "outputs": [
    {
     "data": {
      "text/plain": [
       "<matplotlib.collections.PathCollection at 0x7fafdf8d2690>"
      ]
     },
     "execution_count": 49,
     "metadata": {},
     "output_type": "execute_result"
    },
    {
     "data": {
      "image/png": "[encoded data removed]",
      "text/plain": [
       "<Figure size 432x288 with 2 Axes>"
      ]
     },
     "metadata": {
      "needs_background": "light"
     },
     "output_type": "display_data"
    }
   ],
   "source": [
    "f, axes = plt.subplots(1, 2, sharey=True)\n",
    "\n",
    "axes[0].scatter(\n",
    "    list(range(len(train_occurances))),\n",
    "    list(reversed(sorted(train_occurances.values())))\n",
    ")\n",
    "axes[1].scatter(\n",
    "    list(range(100)),\n",
    "    list(reversed(sorted(train_occurances.values())))[:100]\n",
    ")"
   ]
  },
  {
   "cell_type": "code",
   "execution_count": 50,
   "metadata": {},
   "outputs": [
    {
     "data": {
      "text/plain": [
       "<matplotlib.collections.PathCollection at 0x7fafdf80c110>"
      ]
     },
     "execution_count": 50,
     "metadata": {},
     "output_type": "execute_result"
    },
    {
     "data": {
      "image/png": "[encoded data removed]",
      "text/plain": [
       "<Figure size 432x288 with 2 Axes>"
      ]
     },
     "metadata": {
      "needs_background": "light"
     },
     "output_type": "display_data"
    }
   ],
   "source": [
    "f, axes = plt.subplots(1, 2, sharey=True)\n",
    "\n",
    "axes[0].scatter(\n",
    "    list(range(len(test_occurances))),\n",
    "    list(reversed(sorted(test_occurances.values())))\n",
    ")\n",
    "axes[1].scatter(\n",
    "    list(range(100)),\n",
    "    list(reversed(sorted(test_occurances.values())))[:100]\n",
    ")"
   ]
  },
  {
   "cell_type": "code",
   "execution_count": 56,
   "metadata": {},
   "outputs": [
    {
     "data": {
      "text/plain": [
       "[(('the', 31012), ('the', 6379)),\n",
       " (('.', 30969), ('.', 6183)),\n",
       " ((',', 22593), (',', 4838)),\n",
       " (('to', 20233), ('to', 4117)),\n",
       " (('and', 17872), ('and', 3758)),\n",
       " (('i', 13605), ('a', 2661)),\n",
       " (('a', 13129), ('i', 2625)),\n",
       " (('of', 11706), ('of', 2423)),\n",
       " (('in', 9198), ('in', 1967)),\n",
       " (('that', 8634), ('that', 1746)),\n",
       " (('you', 8399), ('is', 1744)),\n",
       " (('is', 8113), ('you', 1595)),\n",
       " (('for', 7229), ('it', 1472)),\n",
       " (('it', 6938), ('for', 1433)),\n",
       " (('we', 5839), ('we', 1215)),\n",
       " (('on', 5698), ('on', 1100)),\n",
       " (('with', 5405), ('with', 1045)),\n",
       " (('have', 4959), ('was', 1031)),\n",
       " (('was', 4949), ('this', 1005)),\n",
       " (('this', 4759), ('have', 985)),\n",
       " (('be', 4514), ('be', 954)),\n",
       " (('are', 4288), ('are', 818)),\n",
       " (('not', 3788), ('as', 795)),\n",
       " ((\"'s\", 3718), ('not', 789)),\n",
       " (('will', 3623), (\"'s\", 755))]"
      ]
     },
     "execution_count": 56,
     "metadata": {},
     "output_type": "execute_result"
    }
   ],
   "source": [
    "list(zip(\n",
    "    list(reversed(sorted(train_occurances.items(), key=lambda k: k[1])))[:25],\n",
    "    list(reversed(sorted(test_occurances.items(), key=lambda k: k[1])))[:25]\n",
    "))"
   ]
  },
  {
   "cell_type": "code",
   "execution_count": 60,
   "metadata": {},
   "outputs": [
    {
     "data": {
      "text/plain": [
       "[(('tdy', 1), ('aircraft', 1)),\n",
       " (('incidentals', 1), ('d.c.', 1)),\n",
       " (('2013.', 1), ('tegucigalpa', 1)),\n",
       " (('wholly', 1), ('assault', 1)),\n",
       " (('unwelcomed', 1), ('journal', 1)),\n",
       " (('swearing-in', 1), ('dedicates', 1)),\n",
       " (('gsa', 1), ('attacking', 1)),\n",
       " (('statuses', 1), ('connie', 1)),\n",
       " (('rakic', 1), ('chorus', 1)),\n",
       " (('goran', 1), ('stalwart', 1)),\n",
       " (('hadzic', 1), ('ipc', 1)),\n",
       " (('frushka', 1), ('moments', 1)),\n",
       " (('gora', 1), ('propelled', 1)),\n",
       " (('vojvodina', 1), ('debilitating', 1)),\n",
       " (('bia', 1), ('destabilized', 1)),\n",
       " (('brammertz', 1), ('undermined', 1)),\n",
       " (('burce', 1), ('masood', 1)),\n",
       " (('warlick', 1), ('dominique', 1)),\n",
       " (('+381-11-306-4605', 1), ('strauss-kahn', 1)),\n",
       " (('14:30', 1), ('anticipate', 1)),\n",
       " (('conrad', 1), ('candid', 1)),\n",
       " (('+90', 1), ('newspapers', 1)),\n",
       " (('312', 1), ('professionals', 1)),\n",
       " (('457', 1), ('oppressive', 1)),\n",
       " (('7280', 1), ('reckless', 1))]"
      ]
     },
     "execution_count": 60,
     "metadata": {},
     "output_type": "execute_result"
    }
   ],
   "source": [
    "list(zip(\n",
    "    list(sorted(train_occurances.items(), key=lambda k: k[1]))[:25],\n",
    "    list(sorted(test_occurances.items(), key=lambda k: k[1]))[:25]\n",
    "))"
   ]
  },
  {
   "cell_type": "code",
   "execution_count": null,
   "metadata": {},
   "outputs": [],
   "source": []
  }
 ],
 "metadata": {
  "kernelspec": {
   "display_name": "Python 3",
   "language": "python",
   "name": "python3"
  },
  "language_info": {
   "codemirror_mode": {
    "name": "ipython",
    "version": 3
   },
   "file_extension": ".py",
   "mimetype": "text/x-python",
   "name": "python",
   "nbconvert_exporter": "python",
   "pygments_lexer": "ipython3",
   "version": "3.7.4"
  }
 },
 "nbformat": 4,
 "nbformat_minor": 2
}
