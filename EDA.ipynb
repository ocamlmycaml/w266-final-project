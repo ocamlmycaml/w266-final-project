{
 "cells": [
  {
   "cell_type": "code",
   "execution_count": 1,
   "metadata": {},
   "outputs": [],
   "source": [
    "import tensorflow as tf\n",
    "import pandas as pd\n",
    "import numpy as np\n",
    "import nltk\n",
    "import os\n",
    "import json\n",
    "\n",
    "from tensorflow.keras.layers import Bidirectional, LSTM, Dense, Dropout, Concatenate\n",
    "from tensorflow.python.ops import array_ops\n",
    "from nltk import sent_tokenize, word_tokenize\n",
    "from matplotlib import pyplot as plt\n",
    "\n",
    "from gcdc_data import load, load_pandas, Source, TrainOrTest\n",
    "from models import categorical_labels, dense_mask, pad_to_dense, tokenize\n",
    "from models import DocModel, AttentiveDocModel, SmallDocModel, SmallAttentiveDocModel\n",
    "\n",
    "\n",
    "def pythonize(history):\n",
    "    return {\n",
    "        key: [float(x) for x in scores]\n",
    "        for key, scores in history.items()\n",
    "    }"
   ]
  },
  {
   "cell_type": "code",
   "execution_count": 2,
   "metadata": {},
   "outputs": [],
   "source": [
    "train_data = load_pandas(TrainOrTest.TRAIN, sources=[Source.CLINTON, Source.ENRON])\n",
    "test_data = load_pandas(TrainOrTest.TEST, sources=[Source.CLINTON, Source.ENRON])"
   ]
  },
  {
   "cell_type": "code",
   "execution_count": 3,
   "metadata": {},
   "outputs": [
    {
     "data": {
      "text/html": [
       "<div>\n",
       "<style scoped>\n",
       "    .dataframe tbody tr th:only-of-type {\n",
       "        vertical-align: middle;\n",
       "    }\n",
       "\n",
       "    .dataframe tbody tr th {\n",
       "        vertical-align: top;\n",
       "    }\n",
       "\n",
       "    .dataframe thead th {\n",
       "        text-align: right;\n",
       "    }\n",
       "</style>\n",
       "<table border=\"1\" class=\"dataframe\">\n",
       "  <thead>\n",
       "    <tr style=\"text-align: right;\">\n",
       "      <th></th>\n",
       "      <th>text</th>\n",
       "      <th>label</th>\n",
       "    </tr>\n",
       "  </thead>\n",
       "  <tbody>\n",
       "    <tr>\n",
       "      <th>count</th>\n",
       "      <td>2000</td>\n",
       "      <td>2000</td>\n",
       "    </tr>\n",
       "    <tr>\n",
       "      <th>unique</th>\n",
       "      <td>1943</td>\n",
       "      <td>3</td>\n",
       "    </tr>\n",
       "    <tr>\n",
       "      <th>top</th>\n",
       "      <td>As you know, Enron has signed a merger agreeme...</td>\n",
       "      <td>3</td>\n",
       "    </tr>\n",
       "    <tr>\n",
       "      <th>freq</th>\n",
       "      <td>5</td>\n",
       "      <td>1018</td>\n",
       "    </tr>\n",
       "  </tbody>\n",
       "</table>\n",
       "</div>"
      ],
      "text/plain": [
       "                                                     text label\n",
       "count                                                2000  2000\n",
       "unique                                               1943     3\n",
       "top     As you know, Enron has signed a merger agreeme...     3\n",
       "freq                                                    5  1018"
      ]
     },
     "execution_count": 3,
     "metadata": {},
     "output_type": "execute_result"
    }
   ],
   "source": [
    "train_data.describe()"
   ]
  },
  {
   "cell_type": "code",
   "execution_count": 4,
   "metadata": {},
   "outputs": [
    {
     "data": {
      "text/html": [
       "<div>\n",
       "<style scoped>\n",
       "    .dataframe tbody tr th:only-of-type {\n",
       "        vertical-align: middle;\n",
       "    }\n",
       "\n",
       "    .dataframe tbody tr th {\n",
       "        vertical-align: top;\n",
       "    }\n",
       "\n",
       "    .dataframe thead th {\n",
       "        text-align: right;\n",
       "    }\n",
       "</style>\n",
       "<table border=\"1\" class=\"dataframe\">\n",
       "  <thead>\n",
       "    <tr style=\"text-align: right;\">\n",
       "      <th></th>\n",
       "      <th>text</th>\n",
       "      <th>label</th>\n",
       "    </tr>\n",
       "  </thead>\n",
       "  <tbody>\n",
       "    <tr>\n",
       "      <th>count</th>\n",
       "      <td>400</td>\n",
       "      <td>400</td>\n",
       "    </tr>\n",
       "    <tr>\n",
       "      <th>unique</th>\n",
       "      <td>399</td>\n",
       "      <td>3</td>\n",
       "    </tr>\n",
       "    <tr>\n",
       "      <th>top</th>\n",
       "      <td>Bill; Mike Cashell (MPC's Transmission Mgr.) j...</td>\n",
       "      <td>3</td>\n",
       "    </tr>\n",
       "    <tr>\n",
       "      <th>freq</th>\n",
       "      <td>2</td>\n",
       "      <td>199</td>\n",
       "    </tr>\n",
       "  </tbody>\n",
       "</table>\n",
       "</div>"
      ],
      "text/plain": [
       "                                                     text label\n",
       "count                                                 400   400\n",
       "unique                                                399     3\n",
       "top     Bill; Mike Cashell (MPC's Transmission Mgr.) j...     3\n",
       "freq                                                    2   199"
      ]
     },
     "execution_count": 4,
     "metadata": {},
     "output_type": "execute_result"
    }
   ],
   "source": [
    "test_data.describe()"
   ]
  },
  {
   "cell_type": "code",
   "execution_count": 5,
   "metadata": {},
   "outputs": [],
   "source": [
    "train_data['length'] = train_data['text'].map(len)\n",
    "train_data['tokenized'] = train_data['text'].map(tokenize)\n",
    "train_data['label'] = pd.to_numeric(train_data['label'])"
   ]
  },
  {
   "cell_type": "code",
   "execution_count": 6,
   "metadata": {},
   "outputs": [
    {
     "data": {
      "text/html": [
       "<div>\n",
       "<style scoped>\n",
       "    .dataframe tbody tr th:only-of-type {\n",
       "        vertical-align: middle;\n",
       "    }\n",
       "\n",
       "    .dataframe tbody tr th {\n",
       "        vertical-align: top;\n",
       "    }\n",
       "\n",
       "    .dataframe thead th {\n",
       "        text-align: right;\n",
       "    }\n",
       "</style>\n",
       "<table border=\"1\" class=\"dataframe\">\n",
       "  <thead>\n",
       "    <tr style=\"text-align: right;\">\n",
       "      <th></th>\n",
       "      <th>label</th>\n",
       "      <th>length</th>\n",
       "    </tr>\n",
       "  </thead>\n",
       "  <tbody>\n",
       "    <tr>\n",
       "      <th>count</th>\n",
       "      <td>2000.000000</td>\n",
       "      <td>2000.000000</td>\n",
       "    </tr>\n",
       "    <tr>\n",
       "      <th>mean</th>\n",
       "      <td>2.218000</td>\n",
       "      <td>935.195000</td>\n",
       "    </tr>\n",
       "    <tr>\n",
       "      <th>std</th>\n",
       "      <td>0.867671</td>\n",
       "      <td>322.857192</td>\n",
       "    </tr>\n",
       "    <tr>\n",
       "      <th>min</th>\n",
       "      <td>1.000000</td>\n",
       "      <td>479.000000</td>\n",
       "    </tr>\n",
       "    <tr>\n",
       "      <th>25%</th>\n",
       "      <td>1.000000</td>\n",
       "      <td>658.750000</td>\n",
       "    </tr>\n",
       "    <tr>\n",
       "      <th>50%</th>\n",
       "      <td>3.000000</td>\n",
       "      <td>850.000000</td>\n",
       "    </tr>\n",
       "    <tr>\n",
       "      <th>75%</th>\n",
       "      <td>3.000000</td>\n",
       "      <td>1159.500000</td>\n",
       "    </tr>\n",
       "    <tr>\n",
       "      <th>max</th>\n",
       "      <td>3.000000</td>\n",
       "      <td>1874.000000</td>\n",
       "    </tr>\n",
       "  </tbody>\n",
       "</table>\n",
       "</div>"
      ],
      "text/plain": [
       "             label       length\n",
       "count  2000.000000  2000.000000\n",
       "mean      2.218000   935.195000\n",
       "std       0.867671   322.857192\n",
       "min       1.000000   479.000000\n",
       "25%       1.000000   658.750000\n",
       "50%       3.000000   850.000000\n",
       "75%       3.000000  1159.500000\n",
       "max       3.000000  1874.000000"
      ]
     },
     "execution_count": 6,
     "metadata": {},
     "output_type": "execute_result"
    }
   ],
   "source": [
    "def ngrams(doc, n=1):\n",
    "    return [\n",
    "        ngram\n",
    "        for para in doc\n",
    "        for sent in para\n",
    "        for ngram in zip(*[sent[i:] for i in range(n)])\n",
    "    ]\n",
    "\n",
    "train_data['unigrams'] = train_data['tokenized'].map(ngrams)\n",
    "train_data['bigrams'] = train_data['tokenized'].map(lambda d: ngrams(d, 2))\n",
    "train_data['trigrams'] = train_data['tokenized'].map(lambda d: ngrams(d, 3))\n",
    "\n",
    "train_data.describe()"
   ]
  },
  {
   "cell_type": "code",
   "execution_count": 7,
   "metadata": {},
   "outputs": [
    {
     "data": {
      "image/png": "[encoded data removed]",
      "text/plain": [
       "<Figure size 432x288 with 1 Axes>"
      ]
     },
     "metadata": {
      "needs_background": "light"
     },
     "output_type": "display_data"
    },
    {
     "data": {
      "image/png": "[encoded data removed]",
      "text/plain": [
       "<Figure size 432x288 with 1 Axes>"
      ]
     },
     "metadata": {
      "needs_background": "light"
     },
     "output_type": "display_data"
    },
    {
     "data": {
      "image/png": "[encoded data removed]",
      "text/plain": [
       "<Figure size 432x288 with 1 Axes>"
      ]
     },
     "metadata": {
      "needs_background": "light"
     },
     "output_type": "display_data"
    }
   ],
   "source": [
    "def get_lengths(data, extra=None):\n",
    "    if not extra:\n",
    "        extra = data\n",
    "    \n",
    "    doc_lengths = data['tokenized'].map(len)\n",
    "    para_lengths = pd.Series([\n",
    "        len(para)\n",
    "        for doc in data['tokenized']\n",
    "        for para in doc\n",
    "    ])\n",
    "    sent_lengths = pd.Series([\n",
    "        len(sent)\n",
    "        for doc in data['tokenized']\n",
    "        for para in doc\n",
    "        for sent in para\n",
    "    ])\n",
    "    \n",
    "    return doc_lengths, para_lengths, sent_lengths\n",
    "\n",
    "\n",
    "d, p, s = get_lengths(train_data)\n",
    "\n",
    "plt.hist(d)\n",
    "plt.show()\n",
    "plt.hist(p)\n",
    "plt.show()\n",
    "plt.hist(s);"
   ]
  },
  {
   "cell_type": "code",
   "execution_count": 8,
   "metadata": {
    "scrolled": false
   },
   "outputs": [
    {
     "data": {
      "image/png": "[encoded data removed]",
      "text/plain": [
       "<Figure size 432x288 with 1 Axes>"
      ]
     },
     "metadata": {
      "needs_background": "light"
     },
     "output_type": "display_data"
    },
    {
     "data": {
      "image/png": "[encoded data removed]",
      "text/plain": [
       "<Figure size 432x288 with 1 Axes>"
      ]
     },
     "metadata": {
      "needs_background": "light"
     },
     "output_type": "display_data"
    },
    {
     "data": {
      "image/png": "[encoded data removed]",
      "text/plain": [
       "<Figure size 432x288 with 1 Axes>"
      ]
     },
     "metadata": {
      "needs_background": "light"
     },
     "output_type": "display_data"
    }
   ],
   "source": [
    "unigram_lengths = train_data['unigrams'].map(len)\n",
    "bigram_lengths = train_data['bigrams'].map(len)\n",
    "trigram_lengths = train_data['trigrams'].map(len)\n",
    "\n",
    "plt.hist(unigram_lengths, bins=100)\n",
    "plt.axvline(unigram_lengths.mean(), color='green')\n",
    "plt.xlim(0, 350)\n",
    "plt.show()\n",
    "\n",
    "plt.hist(bigram_lengths, bins=100)\n",
    "plt.axvline(bigram_lengths.mean(), color='green')\n",
    "plt.xlim(0, 350)\n",
    "plt.show()\n",
    "\n",
    "plt.hist(trigram_lengths, bins=100)\n",
    "plt.axvline(trigram_lengths.mean(), color='green')\n",
    "plt.xlim(0, 350)\n",
    "plt.show()"
   ]
  },
  {
   "cell_type": "code",
   "execution_count": 9,
   "metadata": {},
   "outputs": [
    {
     "data": {
      "text/html": [
       "<div>\n",
       "<style scoped>\n",
       "    .dataframe tbody tr th:only-of-type {\n",
       "        vertical-align: middle;\n",
       "    }\n",
       "\n",
       "    .dataframe tbody tr th {\n",
       "        vertical-align: top;\n",
       "    }\n",
       "\n",
       "    .dataframe thead th {\n",
       "        text-align: right;\n",
       "    }\n",
       "</style>\n",
       "<table border=\"1\" class=\"dataframe\">\n",
       "  <thead>\n",
       "    <tr style=\"text-align: right;\">\n",
       "      <th></th>\n",
       "      <th>text</th>\n",
       "    </tr>\n",
       "    <tr>\n",
       "      <th>label</th>\n",
       "      <th></th>\n",
       "    </tr>\n",
       "  </thead>\n",
       "  <tbody>\n",
       "    <tr>\n",
       "      <th>1</th>\n",
       "      <td>0.291</td>\n",
       "    </tr>\n",
       "    <tr>\n",
       "      <th>2</th>\n",
       "      <td>0.200</td>\n",
       "    </tr>\n",
       "    <tr>\n",
       "      <th>3</th>\n",
       "      <td>0.509</td>\n",
       "    </tr>\n",
       "  </tbody>\n",
       "</table>\n",
       "</div>"
      ],
      "text/plain": [
       "        text\n",
       "label       \n",
       "1      0.291\n",
       "2      0.200\n",
       "3      0.509"
      ]
     },
     "execution_count": 9,
     "metadata": {},
     "output_type": "execute_result"
    }
   ],
   "source": [
    "train_data[['label', 'text']].groupby('label').count() / 2000.0"
   ]
  },
  {
   "cell_type": "code",
   "execution_count": null,
   "metadata": {},
   "outputs": [],
   "source": []
  },
  {
   "cell_type": "code",
   "execution_count": null,
   "metadata": {},
   "outputs": [],
   "source": []
  },
  {
   "cell_type": "code",
   "execution_count": null,
   "metadata": {},
   "outputs": [],
   "source": []
  },
  {
   "cell_type": "code",
   "execution_count": 34,
   "metadata": {},
   "outputs": [
    {
     "name": "stdout",
     "output_type": "stream",
     "text": [
      "[2. 1. 0.]\n"
     ]
    },
    {
     "data": {
      "text/html": [
       "<div>\n",
       "<style scoped>\n",
       "    .dataframe tbody tr th:only-of-type {\n",
       "        vertical-align: middle;\n",
       "    }\n",
       "\n",
       "    .dataframe tbody tr th {\n",
       "        vertical-align: top;\n",
       "    }\n",
       "\n",
       "    .dataframe thead th {\n",
       "        text-align: right;\n",
       "    }\n",
       "</style>\n",
       "<table border=\"1\" class=\"dataframe\">\n",
       "  <thead>\n",
       "    <tr style=\"text-align: right;\">\n",
       "      <th></th>\n",
       "      <th>text</th>\n",
       "      <th>label</th>\n",
       "    </tr>\n",
       "  </thead>\n",
       "  <tbody>\n",
       "    <tr>\n",
       "      <th>0</th>\n",
       "      <td>Madame Secretary:\\n\\nThank you for reaching ou...</td>\n",
       "      <td>2.0</td>\n",
       "    </tr>\n",
       "    <tr>\n",
       "      <th>1</th>\n",
       "      <td>Cheryl, Jake,\\n\\nI received a call from Masood...</td>\n",
       "      <td>2.0</td>\n",
       "    </tr>\n",
       "    <tr>\n",
       "      <th>2</th>\n",
       "      <td>We anticipate the release of what are claimed ...</td>\n",
       "      <td>2.0</td>\n",
       "    </tr>\n",
       "    <tr>\n",
       "      <th>3</th>\n",
       "      <td>Spoke to Ed Levine today to follow up on Frida...</td>\n",
       "      <td>2.0</td>\n",
       "    </tr>\n",
       "    <tr>\n",
       "      <th>4</th>\n",
       "      <td>Purely to update: Tom had me in for lunch at t...</td>\n",
       "      <td>1.0</td>\n",
       "    </tr>\n",
       "  </tbody>\n",
       "</table>\n",
       "</div>"
      ],
      "text/plain": [
       "                                                text  label\n",
       "0  Madame Secretary:\\n\\nThank you for reaching ou...    2.0\n",
       "1  Cheryl, Jake,\\n\\nI received a call from Masood...    2.0\n",
       "2  We anticipate the release of what are claimed ...    2.0\n",
       "3  Spoke to Ed Levine today to follow up on Frida...    2.0\n",
       "4  Purely to update: Tom had me in for lunch at t...    1.0"
      ]
     },
     "execution_count": 34,
     "metadata": {},
     "output_type": "execute_result"
    }
   ],
   "source": [
    "test_data = load_pandas(TrainOrTest.TEST, sources=[Source.CLINTON, Source.ENRON])\n",
    "test_data['label'] = pd.to_numeric(test_data['label'])\n",
    "\n",
    "print(test_data['label'].unique())\n",
    "\n",
    "test_data.head()"
   ]
  },
  {
   "cell_type": "code",
   "execution_count": 11,
   "metadata": {},
   "outputs": [
    {
     "data": {
      "text/plain": [
       "(18832, 1)"
      ]
     },
     "execution_count": 11,
     "metadata": {},
     "output_type": "execute_result"
    }
   ],
   "source": [
    "t = tf.keras.preprocessing.text.Tokenizer(oov_token='unk')\n",
    "t.fit_on_texts([\n",
    "    word\n",
    "    for doc in train_data['text']\n",
    "    for sent in sent_tokenize(doc)\n",
    "    for word in word_tokenize(sent)\n",
    "])\n",
    "\n",
    "vocab_size = len(t.word_index) + 1\n",
    "\n",
    "vocab_size, t.word_index['unk']"
   ]
  },
  {
   "cell_type": "code",
   "execution_count": 12,
   "metadata": {},
   "outputs": [
    {
     "name": "stdout",
     "output_type": "stream",
     "text": [
      "Found 400000 word vectors.\n",
      "[ 1.28830001e-01 -8.22090030e-01  2.74379998e-01 -6.90139979e-02\n",
      "  1.79890007e-01  7.26050019e-01 -1.51120007e-01  8.55410006e-03\n",
      " -9.51219976e-01  7.72430003e-01 -2.83749998e-01  2.83289999e-01\n",
      "  1.48249999e-01 -1.22300005e-02 -1.92670003e-02 -3.44600007e-02\n",
      "  3.15059990e-01 -1.66390002e-01 -1.34349996e-02 -2.04590010e-03\n",
      "  6.49050027e-02 -2.09889993e-01  1.25239998e-01  3.52299988e-01\n",
      "  6.40399992e-01  5.95699996e-02 -8.03020000e-01 -8.16479981e-01\n",
      "  6.61339998e-01  5.99699989e-02 -6.15210012e-02  8.49219978e-01\n",
      " -2.87330002e-02  2.76699990e-01 -1.00680006e+00  7.17580020e-01\n",
      " -3.72570008e-01  4.30640012e-01 -4.92439985e-01  3.86830002e-01\n",
      " -3.68279994e-01  2.79820003e-02  1.53460002e+00 -6.05329990e-01\n",
      " -3.44489992e-01 -1.70690000e-01  2.92879999e-01 -5.35809994e-01\n",
      "  5.60350001e-01 -6.30129993e-01 -1.23080000e-01  9.36330035e-02\n",
      "  5.93360007e-01  1.52139997e+00 -9.26290005e-02 -3.14080000e+00\n",
      "  1.39310002e-01 -5.38200021e-01  1.17359996e+00  6.23179972e-01\n",
      "  4.36210006e-01  1.28559995e+00  1.21210001e-01  4.62060004e-01\n",
      "  5.61420023e-01 -4.14389998e-01  9.43599999e-01  3.89539987e-01\n",
      " -5.31559996e-02  1.86220005e-01 -1.87849998e-01  3.76029998e-01\n",
      "  1.38779998e-01 -1.28810000e+00  1.85340002e-01  3.51570010e-01\n",
      " -8.08879972e-01 -6.76620007e-02 -1.19340003e+00  2.00949997e-01\n",
      "  9.62970018e-01  9.20740008e-01 -3.09330001e-02 -1.17430001e-01\n",
      " -1.52100003e+00 -7.75390029e-01 -9.11780000e-02 -1.27739996e-01\n",
      " -6.39580011e-01 -6.80989981e-01 -1.60370007e-01 -2.17319995e-01\n",
      "  5.70879996e-01  8.66880000e-01 -6.78510010e-01 -6.06410027e-01\n",
      " -6.89270020e-01 -3.39610010e-01  4.27430004e-01  1.65749997e-01]\n"
     ]
    }
   ],
   "source": [
    "EMBEDDING_DIM = 100\n",
    "\n",
    "embeddings_index = {}\n",
    "f = open(os.path.join('data', f'glove.6B.{EMBEDDING_DIM}d.txt'))\n",
    "for line in f:\n",
    "    values = line.split()\n",
    "    word = values[0]\n",
    "    coefs = np.asarray(values[1:], dtype='float32')\n",
    "    embeddings_index[word] = coefs\n",
    "f.close()\n",
    "\n",
    "print('Found {} word vectors.'.format(len(embeddings_index)))\n",
    "\n",
    "embedding_matrix = np.zeros((vocab_size, EMBEDDING_DIM))\n",
    "for word, i in t.word_index.items():\n",
    "    embedding_vector = embeddings_index.get(word, embeddings_index['unk'])\n",
    "    embedding_matrix[i] = embedding_vector\n",
    "        \n",
    "print(embedding_matrix[72])"
   ]
  },
  {
   "cell_type": "code",
   "execution_count": 13,
   "metadata": {},
   "outputs": [
    {
     "data": {
      "text/plain": [
       "1698"
      ]
     },
     "execution_count": 13,
     "metadata": {},
     "output_type": "execute_result"
    }
   ],
   "source": [
    "len(set(t.word_index.keys() - embeddings_index.keys()))"
   ]
  },
  {
   "cell_type": "code",
   "execution_count": 14,
   "metadata": {},
   "outputs": [],
   "source": [
    "example_document = \"\"\"Dear abby,\n",
    "\n",
    "I'm writing to tell you you suck. Help me out of this mess.\n",
    "\n",
    "Bye\"\"\""
   ]
  },
  {
   "cell_type": "code",
   "execution_count": 15,
   "metadata": {},
   "outputs": [
    {
     "name": "stdout",
     "output_type": "stream",
     "text": [
      "[[['Dear', 'abby', ',']], [['I', \"'m\", 'writing', 'to', 'tell', 'you', 'you', 'suck', '.'], ['Help', 'me', 'out', 'of', 'this', 'mess', '.']], [['Bye']]]\n"
     ]
    }
   ],
   "source": [
    "print(tokenize(example_document))"
   ]
  },
  {
   "cell_type": "code",
   "execution_count": 16,
   "metadata": {},
   "outputs": [
    {
     "name": "stdout",
     "output_type": "stream",
     "text": [
      "[[[[310], [1], []]], [[[6], [115], [997], [3], [379], [12], [12], [1], []], [[140], [37], [51], [5], [16], [5216], []]], [[[4542]]]]\n"
     ]
    }
   ],
   "source": [
    "print(tokenize(example_document, t))"
   ]
  },
  {
   "cell_type": "code",
   "execution_count": 17,
   "metadata": {},
   "outputs": [
    {
     "data": {
      "text/html": [
       "<div>\n",
       "<style scoped>\n",
       "    .dataframe tbody tr th:only-of-type {\n",
       "        vertical-align: middle;\n",
       "    }\n",
       "\n",
       "    .dataframe tbody tr th {\n",
       "        vertical-align: top;\n",
       "    }\n",
       "\n",
       "    .dataframe thead th {\n",
       "        text-align: right;\n",
       "    }\n",
       "</style>\n",
       "<table border=\"1\" class=\"dataframe\">\n",
       "  <thead>\n",
       "    <tr style=\"text-align: right;\">\n",
       "      <th></th>\n",
       "      <th>text</th>\n",
       "      <th>label</th>\n",
       "      <th>tokenized</th>\n",
       "    </tr>\n",
       "  </thead>\n",
       "  <tbody>\n",
       "    <tr>\n",
       "      <th>0</th>\n",
       "      <td>Cheryl:\\n\\nAre we in a good place to begin pap...</td>\n",
       "      <td>2</td>\n",
       "      <td>[[[[239], []]], [[[22], [13], [8], [7], [106],...</td>\n",
       "    </tr>\n",
       "    <tr>\n",
       "      <th>1</th>\n",
       "      <td>Our friend, General Joe Ballard owns The Raven...</td>\n",
       "      <td>2</td>\n",
       "      <td>[[[[30], [1104], [], [399], [1482], [5415], [2...</td>\n",
       "    </tr>\n",
       "    <tr>\n",
       "      <th>2</th>\n",
       "      <td>Outstanding news! Miki Rakic called about 10 m...</td>\n",
       "      <td>3</td>\n",
       "      <td>[[[[1727], [485], []], [[7862], [10654], [240]...</td>\n",
       "    </tr>\n",
       "    <tr>\n",
       "      <th>3</th>\n",
       "      <td>Responding to separate emails from Uzra + Jeff...</td>\n",
       "      <td>1</td>\n",
       "      <td>[[[[2476], [3], [1134], [2020], [28], [7867], ...</td>\n",
       "    </tr>\n",
       "    <tr>\n",
       "      <th>4</th>\n",
       "      <td>Guy from Mexico is in NY and is cooperating. D...</td>\n",
       "      <td>1</td>\n",
       "      <td>[[[[1106], [28], [783], [11], [8], [1012], [4]...</td>\n",
       "    </tr>\n",
       "  </tbody>\n",
       "</table>\n",
       "</div>"
      ],
      "text/plain": [
       "                                                text label  \\\n",
       "0  Cheryl:\\n\\nAre we in a good place to begin pap...     2   \n",
       "1  Our friend, General Joe Ballard owns The Raven...     2   \n",
       "2  Outstanding news! Miki Rakic called about 10 m...     3   \n",
       "3  Responding to separate emails from Uzra + Jeff...     1   \n",
       "4  Guy from Mexico is in NY and is cooperating. D...     1   \n",
       "\n",
       "                                           tokenized  \n",
       "0  [[[[239], []]], [[[22], [13], [8], [7], [106],...  \n",
       "1  [[[[30], [1104], [], [399], [1482], [5415], [2...  \n",
       "2  [[[[1727], [485], []], [[7862], [10654], [240]...  \n",
       "3  [[[[2476], [3], [1134], [2020], [28], [7867], ...  \n",
       "4  [[[[1106], [28], [783], [11], [8], [1012], [4]...  "
      ]
     },
     "execution_count": 17,
     "metadata": {},
     "output_type": "execute_result"
    }
   ],
   "source": [
    "train_data['tokenized'] = train_data['text'].map(lambda text: tokenize(text, t))\n",
    "test_data['tokenized'] = test_data['text'].map(lambda text: tokenize(text, t))\n",
    "\n",
    "train_data.head()"
   ]
  },
  {
   "cell_type": "code",
   "execution_count": 18,
   "metadata": {},
   "outputs": [
    {
     "data": {
      "text/plain": [
       "(12, 32, 255)"
      ]
     },
     "execution_count": 18,
     "metadata": {},
     "output_type": "execute_result"
    }
   ],
   "source": [
    "MAX_DOC_LENGTH = 0\n",
    "MAX_PARA_LENGTH = 0\n",
    "MAX_SENT_LENGTH = 0\n",
    "\n",
    "for doc in train_data['tokenized'].append(test_data['tokenized']):\n",
    "    MAX_DOC_LENGTH = max(MAX_DOC_LENGTH, len(doc))\n",
    "    for para in doc:\n",
    "        MAX_PARA_LENGTH = max(MAX_PARA_LENGTH, len(para))\n",
    "        for sent in para:\n",
    "            MAX_SENT_LENGTH = max(MAX_SENT_LENGTH, len(sent))\n",
    "            \n",
    "MAX_DOC_LENGTH, MAX_PARA_LENGTH, MAX_SENT_LENGTH"
   ]
  },
  {
   "cell_type": "code",
   "execution_count": 19,
   "metadata": {},
   "outputs": [
    {
     "name": "stdout",
     "output_type": "stream",
     "text": [
      "[[[[239], []]], [[[22], [13], [8], [7], [106], [225], [3], [606], [3809], [3], [484], [4721], [1653], [57], [118], [14], [10647], [8], [523], []]], [[[27], [43], [], [6], [26], [1054], [13], [318], [67], [3], [248], [14], [523], [1654], [4], [6], [19], [56], [2], [4722], [220], [3], [305], [2], [3809], []], [[69], [19], [17], [1943], [3], [53], [10], [1723], [161], [], [64], [19], [3222], [67], [3], [650], [1317], [10], [2797], [], [4723], [], [10648], [], [298], [], [4], [16], [1723], [121], [667], [19], [2624], [67], [138], [2], [176], [5], [2], [321], [14], [544], [459], [], [3223], []], [[16], [242], [26], [179], [37], [233], [161], [41], [43], [5], [4224], [131], [7], [4225], [1597], [10], [4724], [14], [537], [916], []]], [[[6], [66], [25], [1797], [14], [7860], [51], [3], [4724], [], [2], [2018], [13], [56], [2], [60], [46], [11], [3], [17], [211], [], [4], [13], [74], [25], [56], [2625], [], [4725], [51], [49], [131], [13], [2019], [], [25], [7], [10649], [10650], [1103], [], [151], [13], [42], [273], [1864], [9], [1865], [10], [612], [41], [544], [], []], [[31], [], [27], [2], [2217], [22], [8], [225], [], [3224], [4], [6], [26], [71], [3], [149], [51], [700, 537], [8], [230], [3], [1318], [8], [7861], [417], [14], [537], [1209, 268], []]], [[[47], [5413, 8], [1866], [11], [651], [10], [537], [499], [24], [5414], [14], [2], [3810], [584], []], [[1011], [187], [13], [4726], [], [9], [283], [11], [273], [4], [3224], [4], [6], [22], [1798], [10], [2], [121], []]]]\n"
     ]
    },
    {
     "data": {
      "text/plain": [
       "array([[[[239.,   0.,   0., ...,   0.,   0.,   0.],\n",
       "         [  0.,   0.,   0., ...,   0.,   0.,   0.],\n",
       "         [  0.,   0.,   0., ...,   0.,   0.,   0.],\n",
       "         ...,\n",
       "         [  0.,   0.,   0., ...,   0.,   0.,   0.],\n",
       "         [  0.,   0.,   0., ...,   0.,   0.,   0.],\n",
       "         [  0.,   0.,   0., ...,   0.,   0.,   0.]],\n",
       "\n",
       "        [[ 22.,  13.,   8., ...,   0.,   0.,   0.],\n",
       "         [  0.,   0.,   0., ...,   0.,   0.,   0.],\n",
       "         [  0.,   0.,   0., ...,   0.,   0.,   0.],\n",
       "         ...,\n",
       "         [  0.,   0.,   0., ...,   0.,   0.,   0.],\n",
       "         [  0.,   0.,   0., ...,   0.,   0.,   0.],\n",
       "         [  0.,   0.,   0., ...,   0.,   0.,   0.]],\n",
       "\n",
       "        [[ 27.,  43.,   6., ...,   0.,   0.,   0.],\n",
       "         [ 69.,  19.,  17., ...,   0.,   0.,   0.],\n",
       "         [ 16., 242.,  26., ...,   0.,   0.,   0.],\n",
       "         ...,\n",
       "         [  0.,   0.,   0., ...,   0.,   0.,   0.],\n",
       "         [  0.,   0.,   0., ...,   0.,   0.,   0.],\n",
       "         [  0.,   0.,   0., ...,   0.,   0.,   0.]],\n",
       "\n",
       "        ...,\n",
       "\n",
       "        [[  0.,   0.,   0., ...,   0.,   0.,   0.],\n",
       "         [  0.,   0.,   0., ...,   0.,   0.,   0.],\n",
       "         [  0.,   0.,   0., ...,   0.,   0.,   0.],\n",
       "         ...,\n",
       "         [  0.,   0.,   0., ...,   0.,   0.,   0.],\n",
       "         [  0.,   0.,   0., ...,   0.,   0.,   0.],\n",
       "         [  0.,   0.,   0., ...,   0.,   0.,   0.]],\n",
       "\n",
       "        [[  0.,   0.,   0., ...,   0.,   0.,   0.],\n",
       "         [  0.,   0.,   0., ...,   0.,   0.,   0.],\n",
       "         [  0.,   0.,   0., ...,   0.,   0.,   0.],\n",
       "         ...,\n",
       "         [  0.,   0.,   0., ...,   0.,   0.,   0.],\n",
       "         [  0.,   0.,   0., ...,   0.,   0.,   0.],\n",
       "         [  0.,   0.,   0., ...,   0.,   0.,   0.]],\n",
       "\n",
       "        [[  0.,   0.,   0., ...,   0.,   0.,   0.],\n",
       "         [  0.,   0.,   0., ...,   0.,   0.,   0.],\n",
       "         [  0.,   0.,   0., ...,   0.,   0.,   0.],\n",
       "         ...,\n",
       "         [  0.,   0.,   0., ...,   0.,   0.,   0.],\n",
       "         [  0.,   0.,   0., ...,   0.,   0.,   0.],\n",
       "         [  0.,   0.,   0., ...,   0.,   0.,   0.]]]])"
      ]
     },
     "execution_count": 19,
     "metadata": {},
     "output_type": "execute_result"
    }
   ],
   "source": [
    "print(train_data['tokenized'][0])\n",
    "pad_to_dense(train_data['tokenized'][:1])"
   ]
  },
  {
   "cell_type": "code",
   "execution_count": 20,
   "metadata": {},
   "outputs": [
    {
     "data": {
      "text/plain": [
       "array([[[[ True,  True, False, ..., False, False, False],\n",
       "         [False, False, False, ..., False, False, False],\n",
       "         [False, False, False, ..., False, False, False],\n",
       "         ...,\n",
       "         [False, False, False, ..., False, False, False],\n",
       "         [False, False, False, ..., False, False, False],\n",
       "         [False, False, False, ..., False, False, False]],\n",
       "\n",
       "        [[ True,  True,  True, ..., False, False, False],\n",
       "         [False, False, False, ..., False, False, False],\n",
       "         [False, False, False, ..., False, False, False],\n",
       "         ...,\n",
       "         [False, False, False, ..., False, False, False],\n",
       "         [False, False, False, ..., False, False, False],\n",
       "         [False, False, False, ..., False, False, False]],\n",
       "\n",
       "        [[ True,  True,  True, ..., False, False, False],\n",
       "         [ True,  True,  True, ..., False, False, False],\n",
       "         [ True,  True,  True, ..., False, False, False],\n",
       "         ...,\n",
       "         [False, False, False, ..., False, False, False],\n",
       "         [False, False, False, ..., False, False, False],\n",
       "         [False, False, False, ..., False, False, False]],\n",
       "\n",
       "        ...,\n",
       "\n",
       "        [[False, False, False, ..., False, False, False],\n",
       "         [False, False, False, ..., False, False, False],\n",
       "         [False, False, False, ..., False, False, False],\n",
       "         ...,\n",
       "         [False, False, False, ..., False, False, False],\n",
       "         [False, False, False, ..., False, False, False],\n",
       "         [False, False, False, ..., False, False, False]],\n",
       "\n",
       "        [[False, False, False, ..., False, False, False],\n",
       "         [False, False, False, ..., False, False, False],\n",
       "         [False, False, False, ..., False, False, False],\n",
       "         ...,\n",
       "         [False, False, False, ..., False, False, False],\n",
       "         [False, False, False, ..., False, False, False],\n",
       "         [False, False, False, ..., False, False, False]],\n",
       "\n",
       "        [[False, False, False, ..., False, False, False],\n",
       "         [False, False, False, ..., False, False, False],\n",
       "         [False, False, False, ..., False, False, False],\n",
       "         ...,\n",
       "         [False, False, False, ..., False, False, False],\n",
       "         [False, False, False, ..., False, False, False],\n",
       "         [False, False, False, ..., False, False, False]]]])"
      ]
     },
     "execution_count": 20,
     "metadata": {},
     "output_type": "execute_result"
    }
   ],
   "source": [
    "dense_mask(train_data['tokenized'][:1])"
   ]
  },
  {
   "cell_type": "code",
   "execution_count": 21,
   "metadata": {},
   "outputs": [
    {
     "data": {
      "text/plain": [
       "((2000, 12, 32, 255), (400, 12, 32, 255))"
      ]
     },
     "execution_count": 21,
     "metadata": {},
     "output_type": "execute_result"
    }
   ],
   "source": [
    "train_tensor = pad_to_dense(train_data['tokenized'])\n",
    "test_tensor = pad_to_dense(test_data['tokenized'])\n",
    "\n",
    "train_tensor.shape, test_tensor.shape"
   ]
  },
  {
   "cell_type": "code",
   "execution_count": 22,
   "metadata": {},
   "outputs": [
    {
     "data": {
      "text/plain": [
       "((2000, 3), (400, 3))"
      ]
     },
     "execution_count": 22,
     "metadata": {},
     "output_type": "execute_result"
    }
   ],
   "source": [
    "train_labels = categorical_labels(pd.to_numeric(train_data['label']))\n",
    "test_labels = categorical_labels(pd.to_numeric(test_data['label']))\n",
    "\n",
    "train_labels.shape, test_labels.shape"
   ]
  },
  {
   "cell_type": "code",
   "execution_count": 23,
   "metadata": {},
   "outputs": [
    {
     "data": {
      "text/plain": [
       "(((2000, 12, 32, 255), (2000, 12, 32), (2000, 12)),\n",
       " ((400, 12, 32, 255), (400, 12, 32), (400, 12)))"
      ]
     },
     "execution_count": 23,
     "metadata": {},
     "output_type": "execute_result"
    }
   ],
   "source": [
    "train_sent_mask = dense_mask(train_data['tokenized'])\n",
    "test_sent_mask = dense_mask(test_data['tokenized'])\n",
    "\n",
    "train_para_mask = np.apply_along_axis(any, 3, train_sent_mask)\n",
    "test_para_mask = np.apply_along_axis(any, 3, test_sent_mask)\n",
    "\n",
    "train_doc_mask = np.apply_along_axis(any, 2, train_para_mask)\n",
    "test_doc_mask = np.apply_along_axis(any, 2, test_para_mask)\n",
    "\n",
    "(train_sent_mask.shape, train_para_mask.shape, train_doc_mask.shape), (test_sent_mask.shape, test_para_mask.shape, test_doc_mask.shape)"
   ]
  },
  {
   "cell_type": "code",
   "execution_count": 24,
   "metadata": {},
   "outputs": [
    {
     "name": "stdout",
     "output_type": "stream",
     "text": [
      "(2, 12, 32, 255, 100)\n"
     ]
    },
    {
     "data": {
      "text/plain": [
       "<tf.Tensor: id=33, shape=(100,), dtype=float32, numpy=\n",
       "array([ 0.12616  , -0.2641   ,  0.071929 , -0.96047  , -0.086358 ,\n",
       "       -0.032276 ,  0.33611  ,  0.55126  , -0.19631  , -0.66443  ,\n",
       "       -0.16571  , -0.40401  , -0.13921  ,  0.44772  , -0.039273 ,\n",
       "       -0.63014  , -0.2928   , -0.024373 , -0.81073  ,  0.70829  ,\n",
       "       -0.47717  ,  0.39068  ,  0.44993  ,  0.25711  ,  0.68318  ,\n",
       "        0.14003  , -0.013181 , -1.212    , -0.14414  ,  0.21759  ,\n",
       "        0.30636  ,  0.7272   ,  0.82667  , -0.20531  , -0.68931  ,\n",
       "       -0.047831 ,  0.3048   ,  0.20761  ,  0.33063  ,  0.33195  ,\n",
       "       -0.23914  ,  0.046714 , -0.46688  ,  0.46208  ,  0.29071  ,\n",
       "        0.60412  , -0.75673  , -0.34308  , -0.32161  , -0.17654  ,\n",
       "        0.66982  ,  0.014476 , -0.12332  , -0.29709  ,  0.26196  ,\n",
       "       -0.49916  , -0.65069  ,  0.3813   , -0.76894  , -0.2284   ,\n",
       "       -0.25254  , -0.27246  ,  0.38411  ,  0.52052  ,  0.05651  ,\n",
       "       -0.49209  ,  1.0191   ,  0.20061  , -0.33445  , -0.0094115,\n",
       "        0.1643   ,  0.15405  , -0.57942  , -0.38563  ,  0.21205  ,\n",
       "        0.55645  , -0.047173 , -0.094341 , -0.24525  , -0.59299  ,\n",
       "       -0.5196   , -0.098982 ,  0.32377  ,  0.5476   , -0.022338 ,\n",
       "       -0.43968  ,  0.38285  , -0.24398  , -0.23914  , -0.12387  ,\n",
       "        0.45618  ,  0.46133  ,  0.17065  , -0.29166  ,  0.43681  ,\n",
       "        0.50118  , -0.11174  , -0.2478   , -0.30651  ,  0.44494  ],\n",
       "      dtype=float32)>"
      ]
     },
     "execution_count": 24,
     "metadata": {},
     "output_type": "execute_result"
    }
   ],
   "source": [
    "embedding = tf.keras.layers.Embedding(\n",
    "    vocab_size,\n",
    "    EMBEDDING_DIM,\n",
    "    weights=[embedding_matrix],\n",
    "    trainable=False)\n",
    "\n",
    "embedded_example = embedding(train_tensor[:2])\n",
    "\n",
    "print(embedded_example.shape)\n",
    "embedded_example[0][0][0][0]"
   ]
  },
  {
   "cell_type": "code",
   "execution_count": 25,
   "metadata": {},
   "outputs": [],
   "source": [
    "test_dataset = tf.data.Dataset.from_tensor_slices(\n",
    "    ((test_tensor, test_sent_mask, test_para_mask, test_doc_mask), test_labels))\n",
    "\n",
    "test_dataset = test_dataset.shuffle(1000).batch(2)"
   ]
  },
  {
   "cell_type": "code",
   "execution_count": 26,
   "metadata": {},
   "outputs": [
    {
     "name": "stdout",
     "output_type": "stream",
     "text": [
      "WARNING:tensorflow:Layer doc_model is casting an input tensor from dtype float64 to the layer's dtype of float32, which is new behavior in TensorFlow 2.  The layer has dtype float32 because it's dtype defaults to floatx.\n",
      "\n",
      "If you intended to run this layer in float32, you can safely ignore this warning. If in doubt, this warning is likely only an issue if you are porting a TensorFlow 1.X model to TensorFlow 2.\n",
      "\n",
      "To change all layers to have dtype float64 by default, call `tf.keras.backend.set_floatx('float64')`. To change just this layer, pass dtype='float64' to the layer constructor. If you are the author of this layer, you can disable autocasting by passing autocast=False to the base Layer constructor.\n",
      "\n",
      "WARNING:tensorflow:Layer small_doc_model is casting an input tensor from dtype float64 to the layer's dtype of float32, which is new behavior in TensorFlow 2.  The layer has dtype float32 because it's dtype defaults to floatx.\n",
      "\n",
      "If you intended to run this layer in float32, you can safely ignore this warning. If in doubt, this warning is likely only an issue if you are porting a TensorFlow 1.X model to TensorFlow 2.\n",
      "\n",
      "To change all layers to have dtype float64 by default, call `tf.keras.backend.set_floatx('float64')`. To change just this layer, pass dtype='float64' to the layer constructor. If you are the author of this layer, you can disable autocasting by passing autocast=False to the base Layer constructor.\n",
      "\n",
      "WARNING:tensorflow:Layer attentive_doc_model is casting an input tensor from dtype float64 to the layer's dtype of float32, which is new behavior in TensorFlow 2.  The layer has dtype float32 because it's dtype defaults to floatx.\n",
      "\n",
      "If you intended to run this layer in float32, you can safely ignore this warning. If in doubt, this warning is likely only an issue if you are porting a TensorFlow 1.X model to TensorFlow 2.\n",
      "\n",
      "To change all layers to have dtype float64 by default, call `tf.keras.backend.set_floatx('float64')`. To change just this layer, pass dtype='float64' to the layer constructor. If you are the author of this layer, you can disable autocasting by passing autocast=False to the base Layer constructor.\n",
      "\n",
      "WARNING:tensorflow:Layer small_attentive_doc_model is casting an input tensor from dtype float64 to the layer's dtype of float32, which is new behavior in TensorFlow 2.  The layer has dtype float32 because it's dtype defaults to floatx.\n",
      "\n",
      "If you intended to run this layer in float32, you can safely ignore this warning. If in doubt, this warning is likely only an issue if you are porting a TensorFlow 1.X model to TensorFlow 2.\n",
      "\n",
      "To change all layers to have dtype float64 by default, call `tf.keras.backend.set_floatx('float64')`. To change just this layer, pass dtype='float64' to the layer constructor. If you are the author of this layer, you can disable autocasting by passing autocast=False to the base Layer constructor.\n",
      "\n"
     ]
    },
    {
     "data": {
      "text/plain": [
       "<tensorflow.python.training.tracking.util.CheckpointLoadStatus at 0x7f91bc4f1860>"
      ]
     },
     "execution_count": 26,
     "metadata": {},
     "output_type": "execute_result"
    }
   ],
   "source": [
    "doc_model = DocModel(150, 300, 0.5, embedding_matrix, vocab_size)\n",
    "small_doc_model = SmallDocModel(150, 300, 0.5, embedding_matrix, vocab_size)\n",
    "att_doc_model = AttentiveDocModel(150, 300, 200, 0.5, embedding_matrix, vocab_size)\n",
    "small_att_doc_model = SmallAttentiveDocModel(150, 300, 100, 0.5, embedding_matrix, vocab_size)\n",
    "\n",
    "for model in (doc_model, small_doc_model, att_doc_model, small_att_doc_model):\n",
    "    model.compile(optimizer='adam', metrics=['accuracy'],\n",
    "                  loss=tf.keras.losses.CategoricalCrossentropy())\n",
    "    model(next(iter(test_dataset))[0])\n",
    "\n",
    "att_doc_model.load_weights('./checkpoints/attentive_doc_model')\n",
    "small_att_doc_model.load_weights('./small_att_doc_model/ckpt')\n",
    "doc_model.load_weights('./doc_model_checkpoint/ckpt')\n",
    "small_doc_model.load_weights('./small_doc_model_checkpoint/ckpt')"
   ]
  },
  {
   "cell_type": "code",
   "execution_count": 27,
   "metadata": {},
   "outputs": [
    {
     "name": "stdout",
     "output_type": "stream",
     "text": [
      "200/200 [==============================] - 48s 240ms/step - loss: 1.1101 - accuracy: 0.5400\n",
      "200/200 [==============================] - 79s 395ms/step - loss: 1.2003 - accuracy: 0.4950\n",
      "200/200 [==============================] - 53s 264ms/step - loss: 0.9799 - accuracy: 0.5650\n",
      "200/200 [==============================] - 79s 395ms/step - loss: 1.0284 - accuracy: 0.5150\n"
     ]
    },
    {
     "data": {
      "text/plain": [
       "[1.0284143951535225, 0.515]"
      ]
     },
     "execution_count": 27,
     "metadata": {},
     "output_type": "execute_result"
    }
   ],
   "source": [
    "doc_model.evaluate(test_dataset)\n",
    "small_doc_model.evaluate(test_dataset)\n",
    "att_doc_model.evaluate(test_dataset)\n",
    "small_att_doc_model.evaluate(test_dataset)"
   ]
  },
  {
   "cell_type": "code",
   "execution_count": 39,
   "metadata": {},
   "outputs": [
    {
     "data": {
      "image/png": "[encoded data removed]",
      "text/plain": [
       "<Figure size 432x288 with 1 Axes>"
      ]
     },
     "metadata": {
      "needs_background": "light"
     },
     "output_type": "display_data"
    },
    {
     "data": {
      "image/png": "[encoded data removed]",
      "text/plain": [
       "<Figure size 432x288 with 1 Axes>"
      ]
     },
     "metadata": {
      "needs_background": "light"
     },
     "output_type": "display_data"
    },
    {
     "data": {
      "image/png": "[encoded data removed]",
      "text/plain": [
       "<Figure size 432x288 with 1 Axes>"
      ]
     },
     "metadata": {
      "needs_background": "light"
     },
     "output_type": "display_data"
    },
    {
     "data": {
      "image/png": "[encoded data removed]",
      "text/plain": [
       "<Figure size 432x288 with 1 Axes>"
      ]
     },
     "metadata": {
      "needs_background": "light"
     },
     "output_type": "display_data"
    }
   ],
   "source": [
    "with open('doc_model_history.json') as f:\n",
    "    doc_model_hist = json.load(f)\n",
    "with open('small_doc_model_history.json') as f:\n",
    "    small_doc_model_hist = json.load(f)\n",
    "with open('attentive_doc_model_history_200.json') as f:\n",
    "    att_doc_model_hist = json.load(f)\n",
    "with open('small_att_doc_model_history_100.json') as f:\n",
    "    small_att_doc_model_hist = json.load(f)\n",
    "\n",
    "\n",
    "plt.plot(doc_model_hist['val_loss'])\n",
    "plt.plot(doc_model_hist['loss'])\n",
    "plt.show()\n",
    "plt.plot(small_doc_model_hist['val_loss'])\n",
    "plt.plot(small_doc_model_hist['loss'])\n",
    "plt.show()\n",
    "plt.plot(att_doc_model_hist['val_loss'])\n",
    "plt.plot(att_doc_model_hist['loss'])\n",
    "plt.show()\n",
    "plt.plot(small_att_doc_model_hist['val_loss'])\n",
    "plt.plot(small_att_doc_model_hist['loss'])\n",
    "plt.show()"
   ]
  },
  {
   "cell_type": "code",
   "execution_count": 35,
   "metadata": {},
   "outputs": [
    {
     "data": {
      "text/plain": [
       "0.28"
      ]
     },
     "execution_count": 35,
     "metadata": {},
     "output_type": "execute_result"
    }
   ],
   "source": [
    "numeric_labels = categorical_labels(pd.to_numeric(test_data['label']))\n",
    "\n",
    "def eval_model(model):\n",
    "    m = tf.keras.metrics.CategoricalAccuracy()\n",
    "\n",
    "    tf_pred = model.predict(test_dataset)\n",
    "    m.update_state(numeric_labels, tf_pred)\n",
    "    return m.result().numpy()\n",
    "\n",
    "eval_model(doc_model)"
   ]
  },
  {
   "cell_type": "code",
   "execution_count": 36,
   "metadata": {},
   "outputs": [
    {
     "data": {
      "text/plain": [
       "0.2525"
      ]
     },
     "execution_count": 36,
     "metadata": {},
     "output_type": "execute_result"
    }
   ],
   "source": [
    "eval_model(small_doc_model)"
   ]
  },
  {
   "cell_type": "code",
   "execution_count": 37,
   "metadata": {},
   "outputs": [
    {
     "data": {
      "text/plain": [
       "0.2625"
      ]
     },
     "execution_count": 37,
     "metadata": {},
     "output_type": "execute_result"
    }
   ],
   "source": [
    "eval_model(att_doc_model)"
   ]
  },
  {
   "cell_type": "code",
   "execution_count": 38,
   "metadata": {},
   "outputs": [
    {
     "data": {
      "text/plain": [
       "0.2825"
      ]
     },
     "execution_count": 38,
     "metadata": {},
     "output_type": "execute_result"
    }
   ],
   "source": [
    "eval_model(small_att_doc_model)"
   ]
  },
  {
   "cell_type": "code",
   "execution_count": null,
   "metadata": {},
   "outputs": [],
   "source": []
  }
 ],
 "metadata": {
  "kernelspec": {
   "display_name": "Python 3",
   "language": "python",
   "name": "python3"
  },
  "language_info": {
   "codemirror_mode": {
    "name": "ipython",
    "version": 3
   },
   "file_extension": ".py",
   "mimetype": "text/x-python",
   "name": "python",
   "nbconvert_exporter": "python",
   "pygments_lexer": "ipython3",
   "version": "3.6.8"
  }
 },
 "nbformat": 4,
 "nbformat_minor": 2
}
